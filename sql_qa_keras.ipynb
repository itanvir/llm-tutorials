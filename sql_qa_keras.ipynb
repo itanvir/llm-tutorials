{
 "cells": [
  {
   "cell_type": "code",
   "execution_count": 1,
   "id": "9e2e0bab-fae5-47bb-9138-5f2306a8d18c",
   "metadata": {},
   "outputs": [],
   "source": [
    "import matplotlib.pyplot as plt"
   ]
  },
  {
   "cell_type": "code",
   "execution_count": 2,
   "id": "5506e09c-78d1-4ac2-b3e0-557e8e76c470",
   "metadata": {},
   "outputs": [],
   "source": [
    "from datasets import load_dataset\n",
    "\n",
    "# Load a dataset\n",
    "dataset = load_dataset('b-mc2/sql-create-context')"
   ]
  },
  {
   "cell_type": "code",
   "execution_count": 3,
   "id": "97c2e136-3732-4b8a-9687-417d695849f5",
   "metadata": {},
   "outputs": [],
   "source": [
    "contexts = [example['context'] for example in dataset['train']]\n",
    "answers = [example['answer'] for example in dataset['train']]\n",
    "questions = [example['question'] for example in dataset['train']]"
   ]
  },
  {
   "cell_type": "code",
   "execution_count": 4,
   "id": "9b765afe-7f89-4e25-a3e5-0010b211fbd0",
   "metadata": {},
   "outputs": [],
   "source": [
    "from sklearn.model_selection import train_test_split\n",
    "\n",
    "# Assuming contexts, answers, and questions are your dataset\n",
    "data = list(zip(contexts, answers, questions))\n",
    "\n",
    "# Split the data into training and validation sets\n",
    "train_data, val_data = train_test_split(data, test_size=0.2, random_state=42)\n",
    "\n",
    "# Unzip the data\n",
    "train_contexts, train_answers, train_questions = map(list, zip(*train_data))\n",
    "val_contexts, val_answers, val_questions = map(list, zip(*val_data))"
   ]
  },
  {
   "cell_type": "code",
   "execution_count": 5,
   "id": "9a7809b4-07e4-4fac-9d93-be9d1b1eed3c",
   "metadata": {},
   "outputs": [],
   "source": [
    "import re\n",
    "\n",
    "def prepare_text(text):\n",
    "    text = '<START>' + text + '<END>'\n",
    "    return text\n",
    "\n",
    "train_answers = list(map(prepare_text, train_answers))"
   ]
  },
  {
   "cell_type": "code",
   "execution_count": 6,
   "id": "30a4b82b-4998-4e06-8722-f9bebb9a3975",
   "metadata": {},
   "outputs": [
    {
     "name": "stdout",
     "output_type": "stream",
     "text": [
      "\n",
      "\n",
      "\n"
     ]
    }
   ],
   "source": [
    "from tokenizers import Tokenizer, trainers, models, pre_tokenizers, decoders, processors\n",
    "import tensorflow as tf\n",
    "\n",
    "# Initialize a tokenizer\n",
    "tokenizer = Tokenizer(models.BPE())\n",
    "\n",
    "# Set padding token. Padding token must be zero.\n",
    "tokenizer.add_special_tokens([\"<PAD>\", \"<START>\", \"<END>\"])\n",
    "tokenizer.enable_padding(pad_id=0, pad_token=\"<PAD>\")\n",
    "\n",
    "# Gather all texts\n",
    "all_texts = train_contexts + train_questions + train_answers\n",
    "\n",
    "# Train the tokenizer\n",
    "tokenizer.train_from_iterator(all_texts)\n",
    "\n",
    "# Now you can use the tokenizer to encode your texts\n",
    "prompt_tokens, answer_tokens = [], []\n",
    "for context, question, answer in zip(train_contexts, train_questions, train_answers):\n",
    "    prompt = question + \" context: \" + context\n",
    "    prompt_tokens.append(tokenizer.encode(prompt).ids)\n",
    "    answer_tokens.append(tokenizer.encode(answer).ids)"
   ]
  },
  {
   "cell_type": "code",
   "execution_count": 7,
   "id": "9d759f44-1557-4e6f-a070-adeff5a345e0",
   "metadata": {},
   "outputs": [
    {
     "data": {
      "text/plain": [
       "[2]"
      ]
     },
     "execution_count": 7,
     "metadata": {},
     "output_type": "execute_result"
    }
   ],
   "source": [
    "tokenizer.encode(\"<END>\").ids"
   ]
  },
  {
   "cell_type": "code",
   "execution_count": 8,
   "id": "6440a4cd-cf72-4fa7-a921-a7bb680aed47",
   "metadata": {},
   "outputs": [
    {
     "data": {
      "text/plain": [
       "(array([3.9433e+04, 1.9802e+04, 3.1700e+03, 3.7200e+02, 6.8000e+01,\n",
       "        1.1000e+01, 0.0000e+00, 3.0000e+00, 0.0000e+00, 2.0000e+00]),\n",
       " array([  7. ,  19.4,  31.8,  44.2,  56.6,  69. ,  81.4,  93.8, 106.2,\n",
       "        118.6, 131. ]),\n",
       " <BarContainer object of 10 artists>)"
      ]
     },
     "execution_count": 8,
     "metadata": {},
     "output_type": "execute_result"
    },
    {
     "data": {
      "image/png": "[encoded data removed]",
      "text/plain": [
       "<Figure size 640x480 with 1 Axes>"
      ]
     },
     "metadata": {},
     "output_type": "display_data"
    }
   ],
   "source": [
    "seq_lengths = [len(seq) for seq in prompt_tokens]\n",
    "plt.hist(seq_lengths)"
   ]
  },
  {
   "cell_type": "code",
   "execution_count": 9,
   "id": "6bbf7d4f-a298-4dba-b2b4-d3609c89e462",
   "metadata": {},
   "outputs": [],
   "source": [
    "prompt_seq_length = 50  # replace with your desired sequence length\n",
    "answer_seq_length = 50\n",
    "\n",
    "# Add padding if necessary\n",
    "prompt_tokens_padded = tf.keras.preprocessing.sequence.pad_sequences(prompt_tokens, maxlen=prompt_seq_length, padding='post', value=0)\n",
    "answer_tokens_padded = tf.keras.preprocessing.sequence.pad_sequences(answer_tokens, maxlen=answer_seq_length, padding='post', value=0)"
   ]
  },
  {
   "cell_type": "raw",
   "id": "c9c1af10-ee4b-40c5-bb81-7c06851c35c2",
   "metadata": {},
   "source": [
    "import tensorflow as tf\n",
    "from keras_nlp import layers\n",
    "\n",
    "def create_transformer(num_encoders=2, num_decoders=3):\n",
    "    # Define the input layers\n",
    "    encoder_inputs = tf.keras.Input(shape=(None,), dtype=\"int64\", name=\"encoder_inputs\")\n",
    "    decoder_inputs = tf.keras.Input(shape=(None,), dtype=\"int64\", name=\"decoder_inputs\")\n",
    "\n",
    "    # Define the embedding layer\n",
    "    embedding_layer = layers.TokenAndPositionEmbedding(\n",
    "        max_length, vocab_size, embed_dim)\n",
    "    encoder_embeddings = embedding_layer(encoder_inputs)\n",
    "    decoder_embeddings = embedding_layer(decoder_inputs)\n",
    "\n",
    "    # Define the encoder layers\n",
    "    encoder = layers.TransformerEncoder(embed_dim, num_heads, ff_dim)\n",
    "    for _ in range(num_encoders):\n",
    "        encoder_outputs = encoder(encoder_embeddings)\n",
    "\n",
    "    # Define the decoder layers\n",
    "    decoder = layers.TransformerDecoder(embed_dim, num_heads, ff_dim)\n",
    "    for _ in range(num_decoders):\n",
    "        decoder_outputs = decoder([decoder_embeddings, encoder_outputs])\n",
    "\n",
    "    # Define the output layer\n",
    "    outputs = layers.Dense(vocab_size, activation=\"softmax\")(decoder_outputs)\n",
    "    model = tf.keras.Model([encoder_inputs, decoder_inputs], outputs)\n",
    "\n",
    "    return model\n",
    "\n",
    "# Define your parameters\n",
    "max_length = 200\n",
    "vocab_size = 20000\n",
    "embed_dim = 256\n",
    "num_heads = 8\n",
    "ff_dim = 512\n",
    "\n",
    "# Create your model\n",
    "model = create_transformer(num_encoders=2, num_decoders=3)\n",
    "model.compile(\"adam\", \"sparse_categorical_crossentropy\", metrics=[\"accuracy\"])\n"
   ]
  },
  {
   "cell_type": "code",
   "execution_count": 10,
   "id": "7a71466a-e060-4fa1-9414-0b290ddf8ac0",
   "metadata": {},
   "outputs": [
    {
     "name": "stdout",
     "output_type": "stream",
     "text": [
      "Using TensorFlow backend\n"
     ]
    },
    {
     "name": "stderr",
     "output_type": "stream",
     "text": [
      "2024-05-23 20:04:36.676076: I metal_plugin/src/device/metal_device.cc:1154] Metal device set to: Apple M2 Max\n",
      "2024-05-23 20:04:36.676098: I metal_plugin/src/device/metal_device.cc:296] systemMemory: 64.00 GB\n",
      "2024-05-23 20:04:36.676102: I metal_plugin/src/device/metal_device.cc:313] maxCacheSize: 24.00 GB\n",
      "2024-05-23 20:04:36.676128: I tensorflow/core/common_runtime/pluggable_device/pluggable_device_factory.cc:306] Could not identify NUMA node of platform GPU ID 0, defaulting to 0. Your kernel may not have been built with NUMA support.\n",
      "2024-05-23 20:04:36.676140: I tensorflow/core/common_runtime/pluggable_device/pluggable_device_factory.cc:272] Created TensorFlow device (/job:localhost/replica:0/task:0/device:GPU:0 with 0 MB memory) -> physical PluggableDevice (device: 0, name: METAL, pci bus id: <undefined>)\n"
     ]
    },
    {
     "name": "stdout",
     "output_type": "stream",
     "text": [
      "Model: \"model\"\n",
      "________________________________________________________________________________________________________________________\n",
      " Layer (type)                       Output Shape                        Param #     Connected to                        \n",
      "========================================================================================================================\n",
      " encoder_input (InputLayer)         [(None, None)]                      0           []                                  \n",
      "                                                                                                                        \n",
      " decoder_input (InputLayer)         [(None, None)]                      0           []                                  \n",
      "                                                                                                                        \n",
      " embedding (Embedding)              (None, None, 64)                    1920128     ['encoder_input[0][0]']             \n",
      "                                                                                                                        \n",
      " embedding_1 (Embedding)            (None, None, 64)                    1920128     ['decoder_input[0][0]']             \n",
      "                                                                                                                        \n",
      " position_embedding (PositionEmbed  (None, None, 64)                    3200        ['embedding[0][0]']                 \n",
      " ding)                                                                                                                  \n",
      "                                                                                                                        \n",
      " position_embedding_1 (PositionEmb  (None, None, 64)                    3200        ['embedding_1[0][0]']               \n",
      " edding)                                                                                                                \n",
      "                                                                                                                        \n",
      " add (Add)                          (None, None, 64)                    0           ['embedding[0][0]',                 \n",
      "                                                                                     'position_embedding[0][0]']        \n",
      "                                                                                                                        \n",
      " add_1 (Add)                        (None, None, 64)                    0           ['embedding_1[0][0]',               \n",
      "                                                                                     'position_embedding_1[0][0]']      \n",
      "                                                                                                                        \n",
      " transformer_encoder (TransformerE  (None, None, 64)                    83008       ['add[0][0]']                       \n",
      " ncoder)                                                                                                                \n",
      "                                                                                                                        \n",
      " transformer_decoder (TransformerD  (None, None, 64)                    99776       ['add_1[0][0]',                     \n",
      " ecoder)                                                                             'transformer_encoder[0][0]']       \n",
      "                                                                                                                        \n",
      " dropout_2 (Dropout)                (None, None, 64)                    0           ['transformer_decoder[0][0]']       \n",
      "                                                                                                                        \n",
      " dense (Dense)                      (None, None, 30002)                 1950130     ['dropout_2[0][0]']                 \n",
      "                                                                                                                        \n",
      "========================================================================================================================\n",
      "Total params: 5979570 (22.81 MB)\n",
      "Trainable params: 5979570 (22.81 MB)\n",
      "Non-trainable params: 0 (0.00 Byte)\n",
      "________________________________________________________________________________________________________________________\n"
     ]
    }
   ],
   "source": [
    "import numpy as np\n",
    "import tensorflow as tf\n",
    "from tensorflow.keras import Model\n",
    "from tensorflow.keras.layers import Input, Dense, Dropout, Embedding\n",
    "from keras_nlp.layers import ReversibleEmbedding, PositionEmbedding, TransformerEncoder, TransformerDecoder\n",
    "\n",
    "np.random.seed(42)\n",
    "tf.random.set_seed(42)\n",
    "\n",
    "sequence_length = 50\n",
    "vocab_size = tokenizer.get_vocab_size()\n",
    "num_heads = 8\n",
    "embedding_dim = 64\n",
    "feedforward_dim = 512\n",
    "\n",
    "encoder_input = Input(shape=(None,), dtype='int64', name='encoder_input')\n",
    "encoder_token_embeddings = Embedding(input_dim=vocab_size, output_dim=embedding_dim, mask_zero=True)(encoder_input)\n",
    "encoder_position_embeddings = PositionEmbedding(sequence_length=sequence_length)(encoder_token_embeddings)\n",
    "encoder_embeddings = tf.keras.layers.Add()([encoder_token_embeddings, encoder_position_embeddings])\n",
    "encoder_output = TransformerEncoder(feedforward_dim, num_heads)(encoder_embeddings)\n",
    "\n",
    "decoder_input = Input(shape=(None,), dtype='int64', name='decoder_input')\n",
    "decoder_token_embeddings = Embedding(input_dim=vocab_size, output_dim=embedding_dim, mask_zero=True)(decoder_input)\n",
    "decoder_position_embeddings = PositionEmbedding(sequence_length=sequence_length)(decoder_token_embeddings)\n",
    "decoder_embeddings = tf.keras.layers.Add()([decoder_token_embeddings, decoder_position_embeddings])\n",
    "decoder_output = TransformerDecoder(feedforward_dim, num_heads)(decoder_embeddings, encoder_output)\n",
    "decoder_output = Dropout(0.4)(decoder_output)\n",
    "\n",
    "final_output = Dense(vocab_size, activation='softmax')(decoder_output)\n",
    "model = Model([encoder_input, decoder_input], final_output)\n",
    "model.compile(optimizer='adam', loss='sparse_categorical_crossentropy', metrics=['accuracy'])\n",
    "model.summary(line_length=120)\n"
   ]
  },
  {
   "cell_type": "code",
   "execution_count": 11,
   "id": "29b1cdf2-88db-43a6-81d1-3263ed44dc75",
   "metadata": {},
   "outputs": [],
   "source": [
    "inputs = { 'encoder_input': prompt_tokens_padded, 'decoder_input': answer_tokens_padded[:, :-1] }\n",
    "outputs = answer_tokens_padded[:, 1:]"
   ]
  },
  {
   "cell_type": "code",
   "execution_count": 12,
   "id": "5bdb628f-235e-476d-a574-eb82135f4354",
   "metadata": {},
   "outputs": [
    {
     "name": "stdout",
     "output_type": "stream",
     "text": [
      "Epoch 1/20\n"
     ]
    },
    {
     "name": "stderr",
     "output_type": "stream",
     "text": [
      "2024-05-23 20:04:39.020445: I tensorflow/core/grappler/optimizers/custom_graph_optimizer_registry.cc:117] Plugin optimizer for device_type GPU is enabled.\n"
     ]
    },
    {
     "name": "stdout",
     "output_type": "stream",
     "text": [
      "1572/1572 [==============================] - ETA: 0s - loss: 5.5284 - accuracy: 0.3125\n",
      "Epoch 1: val_accuracy improved from -inf to 0.34715, saving model to model/sql_qa_model.keras\n",
      "1572/1572 [==============================] - 118s 73ms/step - loss: 5.5284 - accuracy: 0.3125 - val_loss: 4.5934 - val_accuracy: 0.3472\n",
      "Epoch 2/20\n",
      " 464/1572 [=======>......................] - ETA: 1:11 - loss: 4.4659 - accuracy: 0.3533"
     ]
    },
    {
     "ename": "KeyboardInterrupt",
     "evalue": "",
     "output_type": "error",
     "traceback": [
      "\u001b[0;31m---------------------------------------------------------------------------\u001b[0m",
      "\u001b[0;31mKeyboardInterrupt\u001b[0m                         Traceback (most recent call last)",
      "Cell \u001b[0;32mIn[12], line 6\u001b[0m\n\u001b[1;32m      4\u001b[0m callback_es \u001b[38;5;241m=\u001b[39m EarlyStopping(monitor\u001b[38;5;241m=\u001b[39m\u001b[38;5;124m'\u001b[39m\u001b[38;5;124mval_accuracy\u001b[39m\u001b[38;5;124m'\u001b[39m, restore_best_weights\u001b[38;5;241m=\u001b[39m\u001b[38;5;28;01mTrue\u001b[39;00m)\n\u001b[1;32m      5\u001b[0m callback_mc \u001b[38;5;241m=\u001b[39m ModelCheckpoint(checkpoint_filepath, monitor\u001b[38;5;241m=\u001b[39m\u001b[38;5;124m'\u001b[39m\u001b[38;5;124mval_accuracy\u001b[39m\u001b[38;5;124m'\u001b[39m, save_best_only\u001b[38;5;241m=\u001b[39m\u001b[38;5;28;01mTrue\u001b[39;00m, verbose\u001b[38;5;241m=\u001b[39m\u001b[38;5;241m1\u001b[39m)\n\u001b[0;32m----> 6\u001b[0m history \u001b[38;5;241m=\u001b[39m \u001b[43mmodel\u001b[49m\u001b[38;5;241;43m.\u001b[39;49m\u001b[43mfit\u001b[49m\u001b[43m(\u001b[49m\u001b[43minputs\u001b[49m\u001b[43m,\u001b[49m\u001b[43m \u001b[49m\u001b[43moutputs\u001b[49m\u001b[43m,\u001b[49m\u001b[43m \u001b[49m\u001b[43mepochs\u001b[49m\u001b[38;5;241;43m=\u001b[39;49m\u001b[38;5;241;43m20\u001b[39;49m\u001b[43m,\u001b[49m\u001b[43m \u001b[49m\u001b[43mvalidation_split\u001b[49m\u001b[38;5;241;43m=\u001b[39;49m\u001b[38;5;241;43m0.2\u001b[39;49m\u001b[43m,\u001b[49m\u001b[43m \u001b[49m\u001b[43mcallbacks\u001b[49m\u001b[38;5;241;43m=\u001b[39;49m\u001b[43m[\u001b[49m\u001b[43mcallback_es\u001b[49m\u001b[43m,\u001b[49m\u001b[43m \u001b[49m\u001b[43mcallback_mc\u001b[49m\u001b[43m]\u001b[49m\u001b[43m)\u001b[49m\n",
      "File \u001b[0;32m~/miniconda3/envs/ibox/lib/python3.11/site-packages/keras/src/utils/traceback_utils.py:65\u001b[0m, in \u001b[0;36mfilter_traceback.<locals>.error_handler\u001b[0;34m(*args, **kwargs)\u001b[0m\n\u001b[1;32m     63\u001b[0m filtered_tb \u001b[38;5;241m=\u001b[39m \u001b[38;5;28;01mNone\u001b[39;00m\n\u001b[1;32m     64\u001b[0m \u001b[38;5;28;01mtry\u001b[39;00m:\n\u001b[0;32m---> 65\u001b[0m     \u001b[38;5;28;01mreturn\u001b[39;00m \u001b[43mfn\u001b[49m\u001b[43m(\u001b[49m\u001b[38;5;241;43m*\u001b[39;49m\u001b[43margs\u001b[49m\u001b[43m,\u001b[49m\u001b[43m \u001b[49m\u001b[38;5;241;43m*\u001b[39;49m\u001b[38;5;241;43m*\u001b[39;49m\u001b[43mkwargs\u001b[49m\u001b[43m)\u001b[49m\n\u001b[1;32m     66\u001b[0m \u001b[38;5;28;01mexcept\u001b[39;00m \u001b[38;5;167;01mException\u001b[39;00m \u001b[38;5;28;01mas\u001b[39;00m e:\n\u001b[1;32m     67\u001b[0m     filtered_tb \u001b[38;5;241m=\u001b[39m _process_traceback_frames(e\u001b[38;5;241m.\u001b[39m__traceback__)\n",
      "File \u001b[0;32m~/miniconda3/envs/ibox/lib/python3.11/site-packages/keras/src/engine/training.py:1807\u001b[0m, in \u001b[0;36mModel.fit\u001b[0;34m(self, x, y, batch_size, epochs, verbose, callbacks, validation_split, validation_data, shuffle, class_weight, sample_weight, initial_epoch, steps_per_epoch, validation_steps, validation_batch_size, validation_freq, max_queue_size, workers, use_multiprocessing)\u001b[0m\n\u001b[1;32m   1799\u001b[0m \u001b[38;5;28;01mwith\u001b[39;00m tf\u001b[38;5;241m.\u001b[39mprofiler\u001b[38;5;241m.\u001b[39mexperimental\u001b[38;5;241m.\u001b[39mTrace(\n\u001b[1;32m   1800\u001b[0m     \u001b[38;5;124m\"\u001b[39m\u001b[38;5;124mtrain\u001b[39m\u001b[38;5;124m\"\u001b[39m,\n\u001b[1;32m   1801\u001b[0m     epoch_num\u001b[38;5;241m=\u001b[39mepoch,\n\u001b[0;32m   (...)\u001b[0m\n\u001b[1;32m   1804\u001b[0m     _r\u001b[38;5;241m=\u001b[39m\u001b[38;5;241m1\u001b[39m,\n\u001b[1;32m   1805\u001b[0m ):\n\u001b[1;32m   1806\u001b[0m     callbacks\u001b[38;5;241m.\u001b[39mon_train_batch_begin(step)\n\u001b[0;32m-> 1807\u001b[0m     tmp_logs \u001b[38;5;241m=\u001b[39m \u001b[38;5;28;43mself\u001b[39;49m\u001b[38;5;241;43m.\u001b[39;49m\u001b[43mtrain_function\u001b[49m\u001b[43m(\u001b[49m\u001b[43miterator\u001b[49m\u001b[43m)\u001b[49m\n\u001b[1;32m   1808\u001b[0m     \u001b[38;5;28;01mif\u001b[39;00m data_handler\u001b[38;5;241m.\u001b[39mshould_sync:\n\u001b[1;32m   1809\u001b[0m         context\u001b[38;5;241m.\u001b[39masync_wait()\n",
      "File \u001b[0;32m~/miniconda3/envs/ibox/lib/python3.11/site-packages/tensorflow/python/util/traceback_utils.py:150\u001b[0m, in \u001b[0;36mfilter_traceback.<locals>.error_handler\u001b[0;34m(*args, **kwargs)\u001b[0m\n\u001b[1;32m    148\u001b[0m filtered_tb \u001b[38;5;241m=\u001b[39m \u001b[38;5;28;01mNone\u001b[39;00m\n\u001b[1;32m    149\u001b[0m \u001b[38;5;28;01mtry\u001b[39;00m:\n\u001b[0;32m--> 150\u001b[0m   \u001b[38;5;28;01mreturn\u001b[39;00m \u001b[43mfn\u001b[49m\u001b[43m(\u001b[49m\u001b[38;5;241;43m*\u001b[39;49m\u001b[43margs\u001b[49m\u001b[43m,\u001b[49m\u001b[43m \u001b[49m\u001b[38;5;241;43m*\u001b[39;49m\u001b[38;5;241;43m*\u001b[39;49m\u001b[43mkwargs\u001b[49m\u001b[43m)\u001b[49m\n\u001b[1;32m    151\u001b[0m \u001b[38;5;28;01mexcept\u001b[39;00m \u001b[38;5;167;01mException\u001b[39;00m \u001b[38;5;28;01mas\u001b[39;00m e:\n\u001b[1;32m    152\u001b[0m   filtered_tb \u001b[38;5;241m=\u001b[39m _process_traceback_frames(e\u001b[38;5;241m.\u001b[39m__traceback__)\n",
      "File \u001b[0;32m~/miniconda3/envs/ibox/lib/python3.11/site-packages/tensorflow/python/eager/polymorphic_function/polymorphic_function.py:832\u001b[0m, in \u001b[0;36mFunction.__call__\u001b[0;34m(self, *args, **kwds)\u001b[0m\n\u001b[1;32m    829\u001b[0m compiler \u001b[38;5;241m=\u001b[39m \u001b[38;5;124m\"\u001b[39m\u001b[38;5;124mxla\u001b[39m\u001b[38;5;124m\"\u001b[39m \u001b[38;5;28;01mif\u001b[39;00m \u001b[38;5;28mself\u001b[39m\u001b[38;5;241m.\u001b[39m_jit_compile \u001b[38;5;28;01melse\u001b[39;00m \u001b[38;5;124m\"\u001b[39m\u001b[38;5;124mnonXla\u001b[39m\u001b[38;5;124m\"\u001b[39m\n\u001b[1;32m    831\u001b[0m \u001b[38;5;28;01mwith\u001b[39;00m OptionalXlaContext(\u001b[38;5;28mself\u001b[39m\u001b[38;5;241m.\u001b[39m_jit_compile):\n\u001b[0;32m--> 832\u001b[0m   result \u001b[38;5;241m=\u001b[39m \u001b[38;5;28;43mself\u001b[39;49m\u001b[38;5;241;43m.\u001b[39;49m\u001b[43m_call\u001b[49m\u001b[43m(\u001b[49m\u001b[38;5;241;43m*\u001b[39;49m\u001b[43margs\u001b[49m\u001b[43m,\u001b[49m\u001b[43m \u001b[49m\u001b[38;5;241;43m*\u001b[39;49m\u001b[38;5;241;43m*\u001b[39;49m\u001b[43mkwds\u001b[49m\u001b[43m)\u001b[49m\n\u001b[1;32m    834\u001b[0m new_tracing_count \u001b[38;5;241m=\u001b[39m \u001b[38;5;28mself\u001b[39m\u001b[38;5;241m.\u001b[39mexperimental_get_tracing_count()\n\u001b[1;32m    835\u001b[0m without_tracing \u001b[38;5;241m=\u001b[39m (tracing_count \u001b[38;5;241m==\u001b[39m new_tracing_count)\n",
      "File \u001b[0;32m~/miniconda3/envs/ibox/lib/python3.11/site-packages/tensorflow/python/eager/polymorphic_function/polymorphic_function.py:868\u001b[0m, in \u001b[0;36mFunction._call\u001b[0;34m(self, *args, **kwds)\u001b[0m\n\u001b[1;32m    865\u001b[0m   \u001b[38;5;28mself\u001b[39m\u001b[38;5;241m.\u001b[39m_lock\u001b[38;5;241m.\u001b[39mrelease()\n\u001b[1;32m    866\u001b[0m   \u001b[38;5;66;03m# In this case we have created variables on the first call, so we run the\u001b[39;00m\n\u001b[1;32m    867\u001b[0m   \u001b[38;5;66;03m# defunned version which is guaranteed to never create variables.\u001b[39;00m\n\u001b[0;32m--> 868\u001b[0m   \u001b[38;5;28;01mreturn\u001b[39;00m \u001b[43mtracing_compilation\u001b[49m\u001b[38;5;241;43m.\u001b[39;49m\u001b[43mcall_function\u001b[49m\u001b[43m(\u001b[49m\n\u001b[1;32m    869\u001b[0m \u001b[43m      \u001b[49m\u001b[43margs\u001b[49m\u001b[43m,\u001b[49m\u001b[43m \u001b[49m\u001b[43mkwds\u001b[49m\u001b[43m,\u001b[49m\u001b[43m \u001b[49m\u001b[38;5;28;43mself\u001b[39;49m\u001b[38;5;241;43m.\u001b[39;49m\u001b[43m_no_variable_creation_config\u001b[49m\n\u001b[1;32m    870\u001b[0m \u001b[43m  \u001b[49m\u001b[43m)\u001b[49m\n\u001b[1;32m    871\u001b[0m \u001b[38;5;28;01melif\u001b[39;00m \u001b[38;5;28mself\u001b[39m\u001b[38;5;241m.\u001b[39m_variable_creation_config \u001b[38;5;129;01mis\u001b[39;00m \u001b[38;5;129;01mnot\u001b[39;00m \u001b[38;5;28;01mNone\u001b[39;00m:\n\u001b[1;32m    872\u001b[0m   \u001b[38;5;66;03m# Release the lock early so that multiple threads can perform the call\u001b[39;00m\n\u001b[1;32m    873\u001b[0m   \u001b[38;5;66;03m# in parallel.\u001b[39;00m\n\u001b[1;32m    874\u001b[0m   \u001b[38;5;28mself\u001b[39m\u001b[38;5;241m.\u001b[39m_lock\u001b[38;5;241m.\u001b[39mrelease()\n",
      "File \u001b[0;32m~/miniconda3/envs/ibox/lib/python3.11/site-packages/tensorflow/python/eager/polymorphic_function/tracing_compilation.py:139\u001b[0m, in \u001b[0;36mcall_function\u001b[0;34m(args, kwargs, tracing_options)\u001b[0m\n\u001b[1;32m    137\u001b[0m bound_args \u001b[38;5;241m=\u001b[39m function\u001b[38;5;241m.\u001b[39mfunction_type\u001b[38;5;241m.\u001b[39mbind(\u001b[38;5;241m*\u001b[39margs, \u001b[38;5;241m*\u001b[39m\u001b[38;5;241m*\u001b[39mkwargs)\n\u001b[1;32m    138\u001b[0m flat_inputs \u001b[38;5;241m=\u001b[39m function\u001b[38;5;241m.\u001b[39mfunction_type\u001b[38;5;241m.\u001b[39munpack_inputs(bound_args)\n\u001b[0;32m--> 139\u001b[0m \u001b[38;5;28;01mreturn\u001b[39;00m \u001b[43mfunction\u001b[49m\u001b[38;5;241;43m.\u001b[39;49m\u001b[43m_call_flat\u001b[49m\u001b[43m(\u001b[49m\u001b[43m  \u001b[49m\u001b[38;5;66;43;03m# pylint: disable=protected-access\u001b[39;49;00m\n\u001b[1;32m    140\u001b[0m \u001b[43m    \u001b[49m\u001b[43mflat_inputs\u001b[49m\u001b[43m,\u001b[49m\u001b[43m \u001b[49m\u001b[43mcaptured_inputs\u001b[49m\u001b[38;5;241;43m=\u001b[39;49m\u001b[43mfunction\u001b[49m\u001b[38;5;241;43m.\u001b[39;49m\u001b[43mcaptured_inputs\u001b[49m\n\u001b[1;32m    141\u001b[0m \u001b[43m\u001b[49m\u001b[43m)\u001b[49m\n",
      "File \u001b[0;32m~/miniconda3/envs/ibox/lib/python3.11/site-packages/tensorflow/python/eager/polymorphic_function/concrete_function.py:1323\u001b[0m, in \u001b[0;36mConcreteFunction._call_flat\u001b[0;34m(self, tensor_inputs, captured_inputs)\u001b[0m\n\u001b[1;32m   1319\u001b[0m possible_gradient_type \u001b[38;5;241m=\u001b[39m gradients_util\u001b[38;5;241m.\u001b[39mPossibleTapeGradientTypes(args)\n\u001b[1;32m   1320\u001b[0m \u001b[38;5;28;01mif\u001b[39;00m (possible_gradient_type \u001b[38;5;241m==\u001b[39m gradients_util\u001b[38;5;241m.\u001b[39mPOSSIBLE_GRADIENT_TYPES_NONE\n\u001b[1;32m   1321\u001b[0m     \u001b[38;5;129;01mand\u001b[39;00m executing_eagerly):\n\u001b[1;32m   1322\u001b[0m   \u001b[38;5;66;03m# No tape is watching; skip to running the function.\u001b[39;00m\n\u001b[0;32m-> 1323\u001b[0m   \u001b[38;5;28;01mreturn\u001b[39;00m \u001b[38;5;28;43mself\u001b[39;49m\u001b[38;5;241;43m.\u001b[39;49m\u001b[43m_inference_function\u001b[49m\u001b[38;5;241;43m.\u001b[39;49m\u001b[43mcall_preflattened\u001b[49m\u001b[43m(\u001b[49m\u001b[43margs\u001b[49m\u001b[43m)\u001b[49m\n\u001b[1;32m   1324\u001b[0m forward_backward \u001b[38;5;241m=\u001b[39m \u001b[38;5;28mself\u001b[39m\u001b[38;5;241m.\u001b[39m_select_forward_and_backward_functions(\n\u001b[1;32m   1325\u001b[0m     args,\n\u001b[1;32m   1326\u001b[0m     possible_gradient_type,\n\u001b[1;32m   1327\u001b[0m     executing_eagerly)\n\u001b[1;32m   1328\u001b[0m forward_function, args_with_tangents \u001b[38;5;241m=\u001b[39m forward_backward\u001b[38;5;241m.\u001b[39mforward()\n",
      "File \u001b[0;32m~/miniconda3/envs/ibox/lib/python3.11/site-packages/tensorflow/python/eager/polymorphic_function/atomic_function.py:216\u001b[0m, in \u001b[0;36mAtomicFunction.call_preflattened\u001b[0;34m(self, args)\u001b[0m\n\u001b[1;32m    214\u001b[0m \u001b[38;5;28;01mdef\u001b[39;00m \u001b[38;5;21mcall_preflattened\u001b[39m(\u001b[38;5;28mself\u001b[39m, args: Sequence[core\u001b[38;5;241m.\u001b[39mTensor]) \u001b[38;5;241m-\u001b[39m\u001b[38;5;241m>\u001b[39m Any:\n\u001b[1;32m    215\u001b[0m \u001b[38;5;250m  \u001b[39m\u001b[38;5;124;03m\"\"\"Calls with flattened tensor inputs and returns the structured output.\"\"\"\u001b[39;00m\n\u001b[0;32m--> 216\u001b[0m   flat_outputs \u001b[38;5;241m=\u001b[39m \u001b[38;5;28;43mself\u001b[39;49m\u001b[38;5;241;43m.\u001b[39;49m\u001b[43mcall_flat\u001b[49m\u001b[43m(\u001b[49m\u001b[38;5;241;43m*\u001b[39;49m\u001b[43margs\u001b[49m\u001b[43m)\u001b[49m\n\u001b[1;32m    217\u001b[0m   \u001b[38;5;28;01mreturn\u001b[39;00m \u001b[38;5;28mself\u001b[39m\u001b[38;5;241m.\u001b[39mfunction_type\u001b[38;5;241m.\u001b[39mpack_output(flat_outputs)\n",
      "File \u001b[0;32m~/miniconda3/envs/ibox/lib/python3.11/site-packages/tensorflow/python/eager/polymorphic_function/atomic_function.py:251\u001b[0m, in \u001b[0;36mAtomicFunction.call_flat\u001b[0;34m(self, *args)\u001b[0m\n\u001b[1;32m    249\u001b[0m \u001b[38;5;28;01mwith\u001b[39;00m record\u001b[38;5;241m.\u001b[39mstop_recording():\n\u001b[1;32m    250\u001b[0m   \u001b[38;5;28;01mif\u001b[39;00m \u001b[38;5;28mself\u001b[39m\u001b[38;5;241m.\u001b[39m_bound_context\u001b[38;5;241m.\u001b[39mexecuting_eagerly():\n\u001b[0;32m--> 251\u001b[0m     outputs \u001b[38;5;241m=\u001b[39m \u001b[38;5;28;43mself\u001b[39;49m\u001b[38;5;241;43m.\u001b[39;49m\u001b[43m_bound_context\u001b[49m\u001b[38;5;241;43m.\u001b[39;49m\u001b[43mcall_function\u001b[49m\u001b[43m(\u001b[49m\n\u001b[1;32m    252\u001b[0m \u001b[43m        \u001b[49m\u001b[38;5;28;43mself\u001b[39;49m\u001b[38;5;241;43m.\u001b[39;49m\u001b[43mname\u001b[49m\u001b[43m,\u001b[49m\n\u001b[1;32m    253\u001b[0m \u001b[43m        \u001b[49m\u001b[38;5;28;43mlist\u001b[39;49m\u001b[43m(\u001b[49m\u001b[43margs\u001b[49m\u001b[43m)\u001b[49m\u001b[43m,\u001b[49m\n\u001b[1;32m    254\u001b[0m \u001b[43m        \u001b[49m\u001b[38;5;28;43mlen\u001b[39;49m\u001b[43m(\u001b[49m\u001b[38;5;28;43mself\u001b[39;49m\u001b[38;5;241;43m.\u001b[39;49m\u001b[43mfunction_type\u001b[49m\u001b[38;5;241;43m.\u001b[39;49m\u001b[43mflat_outputs\u001b[49m\u001b[43m)\u001b[49m\u001b[43m,\u001b[49m\n\u001b[1;32m    255\u001b[0m \u001b[43m    \u001b[49m\u001b[43m)\u001b[49m\n\u001b[1;32m    256\u001b[0m   \u001b[38;5;28;01melse\u001b[39;00m:\n\u001b[1;32m    257\u001b[0m     outputs \u001b[38;5;241m=\u001b[39m make_call_op_in_graph(\n\u001b[1;32m    258\u001b[0m         \u001b[38;5;28mself\u001b[39m,\n\u001b[1;32m    259\u001b[0m         \u001b[38;5;28mlist\u001b[39m(args),\n\u001b[1;32m    260\u001b[0m         \u001b[38;5;28mself\u001b[39m\u001b[38;5;241m.\u001b[39m_bound_context\u001b[38;5;241m.\u001b[39mfunction_call_options\u001b[38;5;241m.\u001b[39mas_attrs(),\n\u001b[1;32m    261\u001b[0m     )\n",
      "File \u001b[0;32m~/miniconda3/envs/ibox/lib/python3.11/site-packages/tensorflow/python/eager/context.py:1486\u001b[0m, in \u001b[0;36mContext.call_function\u001b[0;34m(self, name, tensor_inputs, num_outputs)\u001b[0m\n\u001b[1;32m   1484\u001b[0m cancellation_context \u001b[38;5;241m=\u001b[39m cancellation\u001b[38;5;241m.\u001b[39mcontext()\n\u001b[1;32m   1485\u001b[0m \u001b[38;5;28;01mif\u001b[39;00m cancellation_context \u001b[38;5;129;01mis\u001b[39;00m \u001b[38;5;28;01mNone\u001b[39;00m:\n\u001b[0;32m-> 1486\u001b[0m   outputs \u001b[38;5;241m=\u001b[39m \u001b[43mexecute\u001b[49m\u001b[38;5;241;43m.\u001b[39;49m\u001b[43mexecute\u001b[49m\u001b[43m(\u001b[49m\n\u001b[1;32m   1487\u001b[0m \u001b[43m      \u001b[49m\u001b[43mname\u001b[49m\u001b[38;5;241;43m.\u001b[39;49m\u001b[43mdecode\u001b[49m\u001b[43m(\u001b[49m\u001b[38;5;124;43m\"\u001b[39;49m\u001b[38;5;124;43mutf-8\u001b[39;49m\u001b[38;5;124;43m\"\u001b[39;49m\u001b[43m)\u001b[49m\u001b[43m,\u001b[49m\n\u001b[1;32m   1488\u001b[0m \u001b[43m      \u001b[49m\u001b[43mnum_outputs\u001b[49m\u001b[38;5;241;43m=\u001b[39;49m\u001b[43mnum_outputs\u001b[49m\u001b[43m,\u001b[49m\n\u001b[1;32m   1489\u001b[0m \u001b[43m      \u001b[49m\u001b[43minputs\u001b[49m\u001b[38;5;241;43m=\u001b[39;49m\u001b[43mtensor_inputs\u001b[49m\u001b[43m,\u001b[49m\n\u001b[1;32m   1490\u001b[0m \u001b[43m      \u001b[49m\u001b[43mattrs\u001b[49m\u001b[38;5;241;43m=\u001b[39;49m\u001b[43mattrs\u001b[49m\u001b[43m,\u001b[49m\n\u001b[1;32m   1491\u001b[0m \u001b[43m      \u001b[49m\u001b[43mctx\u001b[49m\u001b[38;5;241;43m=\u001b[39;49m\u001b[38;5;28;43mself\u001b[39;49m\u001b[43m,\u001b[49m\n\u001b[1;32m   1492\u001b[0m \u001b[43m  \u001b[49m\u001b[43m)\u001b[49m\n\u001b[1;32m   1493\u001b[0m \u001b[38;5;28;01melse\u001b[39;00m:\n\u001b[1;32m   1494\u001b[0m   outputs \u001b[38;5;241m=\u001b[39m execute\u001b[38;5;241m.\u001b[39mexecute_with_cancellation(\n\u001b[1;32m   1495\u001b[0m       name\u001b[38;5;241m.\u001b[39mdecode(\u001b[38;5;124m\"\u001b[39m\u001b[38;5;124mutf-8\u001b[39m\u001b[38;5;124m\"\u001b[39m),\n\u001b[1;32m   1496\u001b[0m       num_outputs\u001b[38;5;241m=\u001b[39mnum_outputs,\n\u001b[0;32m   (...)\u001b[0m\n\u001b[1;32m   1500\u001b[0m       cancellation_manager\u001b[38;5;241m=\u001b[39mcancellation_context,\n\u001b[1;32m   1501\u001b[0m   )\n",
      "File \u001b[0;32m~/miniconda3/envs/ibox/lib/python3.11/site-packages/tensorflow/python/eager/execute.py:53\u001b[0m, in \u001b[0;36mquick_execute\u001b[0;34m(op_name, num_outputs, inputs, attrs, ctx, name)\u001b[0m\n\u001b[1;32m     51\u001b[0m \u001b[38;5;28;01mtry\u001b[39;00m:\n\u001b[1;32m     52\u001b[0m   ctx\u001b[38;5;241m.\u001b[39mensure_initialized()\n\u001b[0;32m---> 53\u001b[0m   tensors \u001b[38;5;241m=\u001b[39m \u001b[43mpywrap_tfe\u001b[49m\u001b[38;5;241;43m.\u001b[39;49m\u001b[43mTFE_Py_Execute\u001b[49m\u001b[43m(\u001b[49m\u001b[43mctx\u001b[49m\u001b[38;5;241;43m.\u001b[39;49m\u001b[43m_handle\u001b[49m\u001b[43m,\u001b[49m\u001b[43m \u001b[49m\u001b[43mdevice_name\u001b[49m\u001b[43m,\u001b[49m\u001b[43m \u001b[49m\u001b[43mop_name\u001b[49m\u001b[43m,\u001b[49m\n\u001b[1;32m     54\u001b[0m \u001b[43m                                      \u001b[49m\u001b[43minputs\u001b[49m\u001b[43m,\u001b[49m\u001b[43m \u001b[49m\u001b[43mattrs\u001b[49m\u001b[43m,\u001b[49m\u001b[43m \u001b[49m\u001b[43mnum_outputs\u001b[49m\u001b[43m)\u001b[49m\n\u001b[1;32m     55\u001b[0m \u001b[38;5;28;01mexcept\u001b[39;00m core\u001b[38;5;241m.\u001b[39m_NotOkStatusException \u001b[38;5;28;01mas\u001b[39;00m e:\n\u001b[1;32m     56\u001b[0m   \u001b[38;5;28;01mif\u001b[39;00m name \u001b[38;5;129;01mis\u001b[39;00m \u001b[38;5;129;01mnot\u001b[39;00m \u001b[38;5;28;01mNone\u001b[39;00m:\n",
      "\u001b[0;31mKeyboardInterrupt\u001b[0m: "
     ]
    }
   ],
   "source": [
    "from tensorflow.keras.callbacks import EarlyStopping, ModelCheckpoint\n",
    "\n",
    "checkpoint_filepath = 'model/sql_qa_model.keras'\n",
    "callback_es = EarlyStopping(monitor='val_accuracy', restore_best_weights=True)\n",
    "callback_mc = ModelCheckpoint(checkpoint_filepath, monitor='val_accuracy', save_best_only=True, verbose=1)\n",
    "history = model.fit(inputs, outputs, epochs=20, validation_split=0.2, callbacks=[callback_es, callback_mc])"
   ]
  },
  {
   "cell_type": "code",
   "execution_count": 13,
   "id": "177e918a-8598-4831-b438-7c0fdb6b3bb3",
   "metadata": {},
   "outputs": [],
   "source": [
    "model = tf.keras.models.load_model(\"model/sql_qa_model.keras\")"
   ]
  },
  {
   "cell_type": "code",
   "execution_count": 14,
   "id": "525ba61c-0b2c-4b69-ae39-968fcb9a1d9f",
   "metadata": {},
   "outputs": [],
   "source": [
    "def get_bot_answer(text, model, tokenizer, sequence_length):\n",
    "\n",
    "    text_encoded = tokenizer.encode(text)\n",
    "    encoder_input = text_encoded.ids\n",
    "    encoder_input = tf.keras.preprocessing.sequence.pad_sequences([encoder_input], maxlen=sequence_length, padding='post', value=0)\n",
    "    encoder_input = tf.convert_to_tensor(encoder_input)\n",
    "    encoder_input = tf.reshape(encoder_input, (1, 50))\n",
    "    \n",
    "    decoded_text = '<START>'\n",
    "    for i in range(sequence_length):\n",
    "        decoder_input = tokenizer.encode(decoded_text).ids\n",
    "        decoder_input = tf.keras.preprocessing.sequence.pad_sequences([decoder_input], maxlen=sequence_length, padding='post', value=0)\n",
    "        decoder_input = tf.convert_to_tensor(decoder_input)\n",
    "        decoder_input = tf.reshape(decoder_input, (1, 50))\n",
    "    \n",
    "        prediction = model([encoder_input, decoder_input])\n",
    "    \n",
    "        idx = np.argmax(prediction[0, i, :])\n",
    "        token = tokenizer.decode([idx])\n",
    "        decoded_text += token\n",
    "\n",
    "        #if token == '<END>':\n",
    "        #    break\n",
    "\n",
    "    return decoded_text\n"
   ]
  },
  {
   "cell_type": "code",
   "execution_count": 15,
   "id": "7c196d09-6942-4981-b530-d71711b49e5b",
   "metadata": {},
   "outputs": [
    {
     "name": "stdout",
     "output_type": "stream",
     "text": [
      "(62861, 50)\n",
      "(62861, 49)\n",
      "(62861, 49)\n"
     ]
    }
   ],
   "source": [
    "print (inputs['encoder_input'].shape)\n",
    "print (inputs['decoder_input'].shape)\n",
    "print (outputs.shape)"
   ]
  },
  {
   "cell_type": "code",
   "execution_count": 16,
   "id": "850cc2dd-014a-4b7f-ab21-d4d57e9f6bd6",
   "metadata": {},
   "outputs": [],
   "source": [
    "#prediction = model([inputs['encoder_input'][0:10], inputs['decoder_input'][0:10]])"
   ]
  },
  {
   "cell_type": "code",
   "execution_count": 17,
   "id": "bd1fe69e-9439-4af8-9176-e89b19b5ff3d",
   "metadata": {},
   "outputs": [
    {
     "name": "stdout",
     "output_type": "stream",
     "text": [
      "What was the number of Laps with a Grid of more than 3 and Time of 39:24.967? context: CREATE TABLE table_name_8 (laps INTEGER, grid VARCHAR, time VARCHAR)\n",
      "<START>SELECT23 WHERE t = \"\" AND  = \"\" AND  = \"446622\"7224\"212\"2\"\"2\"2\"\"\"\"\"\"\n",
      "SELECT MIN(laps) FROM table_name_8 WHERE grid > 3 AND time = \"39:24.967\"\n",
      "-------------\n",
      "Which Senior status has a Chief Judge of —, a Reason for termination of death, and Active service of 1967–1983? context: CREATE TABLE table_name_18 (senior_status VARCHAR, active_service VARCHAR, chief_judge VARCHAR, reason_for_termination VARCHAR)\n",
      "<START>SELECT205s) FROM table__4 WHERE  = \"\" AND s = \"s = \"\" AND >  AS T2 ON T1.< 64> 64\n",
      "SELECT senior_status FROM table_name_18 WHERE chief_judge = \"—\" AND reason_for_termination = \"death\" AND active_service = \"1967–1983\"\n",
      "-------------\n",
      "Which Rank has a Reaction of 0.198, and a Time smaller than 46.3? context: CREATE TABLE table_name_98 (rank INTEGER, react VARCHAR, time VARCHAR)\n",
      "<START>SELECT\") FROM table_28 WHERE t = \"\" AND  = \"\" AND < 22\n",
      "SELECT MAX(rank) FROM table_name_98 WHERE react = 0.198 AND time < 46.3\n",
      "-------------\n",
      "Who narrated when the vessel operator is de beers? context: CREATE TABLE table_26168687_3 (narrated_by VARCHAR, vessel_operator VARCHAR)\n",
      "<START>SELECT23________s) FROM table_name_s) FROM table_name_s) FROM table_name_ = \n",
      "SELECT narrated_by FROM table_26168687_3 WHERE vessel_operator = \"De Beers\"\n",
      "-------------\n",
      "What's the original season in 11th place? context: CREATE TABLE table_name_15 (original_season VARCHAR, placing VARCHAR)\n",
      "<START>SELECTs FROM table_name_) FROM table_2 WHERE t = \"\" AND  = \n",
      "SELECT original_season FROM table_name_15 WHERE placing = \"11th place\"\n",
      "-------------\n",
      "What is the Place of the Song by Artist Rosie Hunter with a Draw of 1 or larger? context: CREATE TABLE table_name_10 (place VARCHAR, artist VARCHAR, draw VARCHAR)\n",
      "<START>SELECT\") FROM table_name_) FROM table_name_ WHERE team = \"\" AND  = \"\" AND < \n",
      "SELECT COUNT(place) FROM table_name_10 WHERE artist = \"rosie hunter\" AND draw > 1\n",
      "-------------\n",
      "Show the times of elimination by \"Punk\" or \"Orton\". context: CREATE TABLE elimination (TIME VARCHAR, Eliminated_By VARCHAR)\n",
      "<START>SELECT T1. T1. FROM  FROM  AS T1 JOIN  AS T2 ON T1. AS T2 ON T1. AS T2 ON T1. AS T2 ON T1. AS T2 ON T1. AS T2 ON T1. AS T2 ON T1.id = T2.id = T2.id = T2. AS T2 ON T1.id = T2. AS T2 ON T1. AS T2 ON T1.id = T2. AS T2 ON T1.ORDER BY COUNT(*) DESC LIMIT  AS T2 ON T1.ORDER BY COUNT(*) DESC LIMIT  AS T2 ON T1. AS T2 ON T1.ORDER BY COUNT(*) DESC LIMIT  AS T2 ON T1.\n",
      "SELECT TIME FROM elimination WHERE Eliminated_By = \"Punk\" OR Eliminated_By = \"Orton\"\n",
      "-------------\n",
      "Where did they play the San Diego Chargers? context: CREATE TABLE table_13259009_2 (game_site VARCHAR, opponent VARCHAR)\n",
      "<START>SELECTs FROM table_ WHERE t WHERE t = \"\" AND  = \n",
      "SELECT game_site FROM table_13259009_2 WHERE opponent = \"San Diego Chargers\"\n",
      "-------------\n",
      "Which Played has a Lost larger than 2, and a Team of américa? context: CREATE TABLE table_name_4 (played VARCHAR, lost VARCHAR, team VARCHAR)\n",
      "<START>SELECT\") FROM table_name_) FROM table_134_9 WHERE  = \"\" AND  = \"\"\"\"\"\"\"\"\"\"\"\"\n",
      "SELECT played FROM table_name_4 WHERE lost > 2 AND team = \"américa\"\n",
      "-------------\n",
      "What venue has a score of 4-0 with the 2002 Tiger Cup listed as the competition? context: CREATE TABLE table_name_26 (venue VARCHAR, score VARCHAR, competition VARCHAR)\n",
      "<START>SELECT\"away_team = \"\"\"away_team = \"away_team = \"away_team\"2\"\"\"\n",
      "SELECT venue FROM table_name_26 WHERE score = \"4-0\" AND competition = \"2002 tiger cup\"\n",
      "-------------\n"
     ]
    }
   ],
   "source": [
    "for i in range(10):\n",
    "    question = val_questions[i]\n",
    "    context = val_contexts[i]\n",
    "    answer = val_answers[i]\n",
    "    prompt = question + \" context: \" + context\n",
    "    print (prompt)\n",
    "    decoded_text = get_bot_answer(prompt, model, tokenizer, sequence_length)\n",
    "    print (decoded_text)\n",
    "    print (answer)\n",
    "    print (\"-------------\")\n",
    "    "
   ]
  },
  {
   "cell_type": "code",
   "execution_count": null,
   "id": "2fc7422f-63de-4bad-937d-6aba406849ad",
   "metadata": {},
   "outputs": [],
   "source": []
  }
 ],
 "metadata": {
  "kernelspec": {
   "display_name": "Python 3 (ipykernel)",
   "language": "python",
   "name": "python3"
  },
  "language_info": {
   "codemirror_mode": {
    "name": "ipython",
    "version": 3
   },
   "file_extension": ".py",
   "mimetype": "text/x-python",
   "name": "python",
   "nbconvert_exporter": "python",
   "pygments_lexer": "ipython3",
   "version": "3.11.5"
  }
 },
 "nbformat": 4,
 "nbformat_minor": 5
}
